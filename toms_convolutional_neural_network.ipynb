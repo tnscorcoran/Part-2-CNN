{
  "nbformat": 4,
  "nbformat_minor": 0,
  "metadata": {
    "colab": {
      "name": "toms_convolutional_neural_network.ipynb",
      "provenance": [],
      "collapsed_sections": []
    },
    "kernelspec": {
      "name": "python3",
      "display_name": "Python 3"
    }
  },
  "cells": [
    {
      "cell_type": "markdown",
      "metadata": {
        "id": "3DR-eO17geWu"
      },
      "source": [
        "# Convolutional Neural Network"
      ]
    },
    {
      "cell_type": "markdown",
      "metadata": {
        "id": "EMefrVPCg-60"
      },
      "source": [
        "### Importing the libraries"
      ]
    },
    {
      "cell_type": "code",
      "metadata": {
        "colab": {
          "base_uri": "https://localhost:8080/"
        },
        "id": "GzWTHPwBoOaL",
        "outputId": "d9456060-86e0-4faf-f0cb-e7080257e617"
      },
      "source": [
        "from google.colab import drive\n",
        "drive.mount('/content/drive')"
      ],
      "execution_count": 1,
      "outputs": [
        {
          "output_type": "stream",
          "text": [
            "Drive already mounted at /content/drive; to attempt to forcibly remount, call drive.mount(\"/content/drive\", force_remount=True).\n"
          ],
          "name": "stdout"
        }
      ]
    },
    {
      "cell_type": "code",
      "metadata": {
        "colab": {
          "base_uri": "https://localhost:8080/"
        },
        "id": "4OdIzUy9omFN",
        "outputId": "e065a02f-6333-4dca-d0a8-56d7afb9a442"
      },
      "source": [
        "%cd /content/drive/MyDrive/mbo/21-q2/1-certification-DL-2-my-code/2-cnn-1\n",
        "! ls"
      ],
      "execution_count": 2,
      "outputs": [
        {
          "output_type": "stream",
          "text": [
            "/content/drive/MyDrive/mbo/21-q2/1-certification-DL-2-my-code/2-cnn-1\n",
            "Part-2-CNN  toms_convolutional_neural_network.ipynb\n"
          ],
          "name": "stdout"
        }
      ]
    },
    {
      "cell_type": "code",
      "metadata": {
        "id": "ad2OQAQFq7bm"
      },
      "source": [
        "# ! git clone https://github.com/tnscorcoran/Part-2-CNN"
      ],
      "execution_count": 3,
      "outputs": []
    },
    {
      "cell_type": "code",
      "metadata": {
        "colab": {
          "base_uri": "https://localhost:8080/"
        },
        "id": "hmPRjUcDxGBe",
        "outputId": "eb1e16d7-0986-4cae-fe38-d8ceefbe8093"
      },
      "source": [
        "%cd /content/drive/MyDrive/mbo/21-q2/1-certification-DL-2-my-code/2-cnn-1\n",
        "! pwd\n",
        "! ls"
      ],
      "execution_count": 4,
      "outputs": [
        {
          "output_type": "stream",
          "text": [
            "/content/drive/MyDrive/mbo/21-q2/1-certification-DL-2-my-code/2-cnn-1\n",
            "/content/drive/MyDrive/mbo/21-q2/1-certification-DL-2-my-code/2-cnn-1\n",
            "Part-2-CNN  toms_convolutional_neural_network.ipynb\n"
          ],
          "name": "stdout"
        }
      ]
    },
    {
      "cell_type": "code",
      "metadata": {
        "id": "sCV30xyVhFbE"
      },
      "source": [
        "import tensorflow as tf\n",
        "from keras.preprocessing.image import ImageDataGenerator"
      ],
      "execution_count": 5,
      "outputs": []
    },
    {
      "cell_type": "code",
      "metadata": {
        "id": "FIleuCAjoFD8",
        "colab": {
          "base_uri": "https://localhost:8080/",
          "height": 35
        },
        "outputId": "8d410ae0-9f26-4927-c722-8e650c4df114"
      },
      "source": [
        "tf.__version__"
      ],
      "execution_count": 6,
      "outputs": [
        {
          "output_type": "execute_result",
          "data": {
            "application/vnd.google.colaboratory.intrinsic+json": {
              "type": "string"
            },
            "text/plain": [
              "'2.4.1'"
            ]
          },
          "metadata": {
            "tags": []
          },
          "execution_count": 6
        }
      ]
    },
    {
      "cell_type": "markdown",
      "metadata": {
        "id": "oxQxCBWyoGPE"
      },
      "source": [
        "## Part 1 - Data Preprocessing"
      ]
    },
    {
      "cell_type": "markdown",
      "metadata": {
        "id": "MvE-heJNo3GG"
      },
      "source": [
        "### Preprocessing the Training set"
      ]
    },
    {
      "cell_type": "code",
      "metadata": {
        "id": "0koUcJMJpEBD",
        "colab": {
          "base_uri": "https://localhost:8080/"
        },
        "outputId": "55ea58cd-b1f4-4919-917f-635f749dc806"
      },
      "source": [
        "train_datagen = ImageDataGenerator(rescale = 1./255,\n",
        "                                   shear_range = 0.2,\n",
        "                                   zoom_range = 0.2,\n",
        "                                   horizontal_flip = True)\n",
        "training_set = train_datagen.flow_from_directory('/content/drive/MyDrive/mbo/21-q2/1-certification-DL-2-my-code/2-cnn-1/Part-2-CNN/dataset/training_set',\n",
        "                                                 target_size = (64, 64),\n",
        "                                                 batch_size = 32,\n",
        "                                                 class_mode = 'binary')"
      ],
      "execution_count": 7,
      "outputs": [
        {
          "output_type": "stream",
          "text": [
            "Found 8000 images belonging to 2 classes.\n"
          ],
          "name": "stdout"
        }
      ]
    },
    {
      "cell_type": "markdown",
      "metadata": {
        "id": "mrCMmGw9pHys"
      },
      "source": [
        "### Preprocessing the Test set"
      ]
    },
    {
      "cell_type": "code",
      "metadata": {
        "id": "SH4WzfOhpKc3",
        "colab": {
          "base_uri": "https://localhost:8080/"
        },
        "outputId": "bac71ac1-de4a-4e4a-d962-1957492021c6"
      },
      "source": [
        "test_datagen = ImageDataGenerator(rescale = 1./255)\n",
        "test_set = test_datagen.flow_from_directory('/content/drive/MyDrive/mbo/21-q2/1-certification-DL-2-my-code/2-cnn-1/Part-2-CNN/dataset/test_set',\n",
        "                                            target_size = (64, 64),\n",
        "                                            batch_size = 32,\n",
        "                                            class_mode = 'binary')"
      ],
      "execution_count": 8,
      "outputs": [
        {
          "output_type": "stream",
          "text": [
            "Found 2000 images belonging to 2 classes.\n"
          ],
          "name": "stdout"
        }
      ]
    },
    {
      "cell_type": "markdown",
      "metadata": {
        "id": "af8O4l90gk7B"
      },
      "source": [
        "## Part 2 - Building the CNN"
      ]
    },
    {
      "cell_type": "markdown",
      "metadata": {
        "id": "ces1gXY2lmoX"
      },
      "source": [
        "### Initialising the CNN"
      ]
    },
    {
      "cell_type": "code",
      "metadata": {
        "id": "SAUt4UMPlhLS"
      },
      "source": [
        "cnn = tf.keras.models.Sequential()"
      ],
      "execution_count": 9,
      "outputs": []
    },
    {
      "cell_type": "markdown",
      "metadata": {
        "id": "u5YJj_XMl5LF"
      },
      "source": [
        "### Step 1 - Convolution"
      ]
    },
    {
      "cell_type": "code",
      "metadata": {
        "id": "XPzPrMckl-hV"
      },
      "source": [
        "cnn.add(tf.keras.layers.Conv2D(filters=32, kernel_size=3, activation='relu', input_shape=[64, 64, 3]))"
      ],
      "execution_count": 10,
      "outputs": []
    },
    {
      "cell_type": "markdown",
      "metadata": {
        "id": "tf87FpvxmNOJ"
      },
      "source": [
        "### Step 2 - Pooling"
      ]
    },
    {
      "cell_type": "code",
      "metadata": {
        "id": "ncpqPl69mOac"
      },
      "source": [
        "cnn.add(tf.keras.layers.MaxPool2D(pool_size=2, strides=2))"
      ],
      "execution_count": 11,
      "outputs": []
    },
    {
      "cell_type": "markdown",
      "metadata": {
        "id": "xaTOgD8rm4mU"
      },
      "source": [
        "\n",
        "\n",
        "```\n",
        "# This is formatted as code\n",
        "```\n",
        "\n",
        "### Adding a second convolutional layer"
      ]
    },
    {
      "cell_type": "code",
      "metadata": {
        "id": "i_-FZjn_m8gk"
      },
      "source": [
        "cnn.add(tf.keras.layers.Conv2D(filters=32, kernel_size=3, activation='relu'))\n",
        "cnn.add(tf.keras.layers.MaxPool2D(pool_size=2, strides=2))"
      ],
      "execution_count": 12,
      "outputs": []
    },
    {
      "cell_type": "markdown",
      "metadata": {
        "id": "tmiEuvTunKfk"
      },
      "source": [
        "### Step 3 - Flattening"
      ]
    },
    {
      "cell_type": "code",
      "metadata": {
        "id": "6AZeOGCvnNZn"
      },
      "source": [
        "cnn.add(tf.keras.layers.Flatten())"
      ],
      "execution_count": 13,
      "outputs": []
    },
    {
      "cell_type": "markdown",
      "metadata": {
        "id": "dAoSECOm203v"
      },
      "source": [
        "### Step 4 - Full Connection"
      ]
    },
    {
      "cell_type": "code",
      "metadata": {
        "id": "8GtmUlLd26Nq"
      },
      "source": [
        "cnn.add(tf.keras.layers.Dense(units=128, activation='relu'))"
      ],
      "execution_count": 14,
      "outputs": []
    },
    {
      "cell_type": "markdown",
      "metadata": {
        "id": "yTldFvbX28Na"
      },
      "source": [
        "### Step 5 - Output Layer"
      ]
    },
    {
      "cell_type": "code",
      "metadata": {
        "id": "1p_Zj1Mc3Ko_"
      },
      "source": [
        "cnn.add(tf.keras.layers.Dense(units=1, activation='sigmoid'))"
      ],
      "execution_count": 15,
      "outputs": []
    },
    {
      "cell_type": "markdown",
      "metadata": {
        "id": "D6XkI90snSDl"
      },
      "source": [
        "## Part 3 - Training the CNN"
      ]
    },
    {
      "cell_type": "markdown",
      "metadata": {
        "id": "vfrFQACEnc6i"
      },
      "source": [
        "### Compiling the CNN"
      ]
    },
    {
      "cell_type": "code",
      "metadata": {
        "id": "NALksrNQpUlJ"
      },
      "source": [
        "cnn.compile(optimizer = 'adam', loss = 'binary_crossentropy', metrics = ['accuracy'])"
      ],
      "execution_count": 16,
      "outputs": []
    },
    {
      "cell_type": "markdown",
      "metadata": {
        "id": "ehS-v3MIpX2h"
      },
      "source": [
        "### Training the CNN on the Training set and evaluating it on the Test set\n",
        "\n",
        "---\n",
        "\n"
      ]
    },
    {
      "cell_type": "code",
      "metadata": {
        "id": "XUj1W4PJptta",
        "colab": {
          "base_uri": "https://localhost:8080/"
        },
        "outputId": "9de490e8-0662-4261-cfb8-95105e74786c"
      },
      "source": [
        "cnn.fit(x = training_set, validation_data = test_set, epochs = 25)"
      ],
      "execution_count": 17,
      "outputs": [
        {
          "output_type": "stream",
          "text": [
            "Epoch 1/25\n",
            "250/250 [==============================] - 705s 3s/step - loss: 0.6823 - accuracy: 0.5540 - val_loss: 0.6259 - val_accuracy: 0.6640\n",
            "Epoch 2/25\n",
            "250/250 [==============================] - 81s 325ms/step - loss: 0.6114 - accuracy: 0.6774 - val_loss: 0.5633 - val_accuracy: 0.7160\n",
            "Epoch 3/25\n",
            "250/250 [==============================] - 82s 328ms/step - loss: 0.5542 - accuracy: 0.7212 - val_loss: 0.5201 - val_accuracy: 0.7390\n",
            "Epoch 4/25\n",
            "250/250 [==============================] - 82s 330ms/step - loss: 0.5289 - accuracy: 0.7295 - val_loss: 0.5552 - val_accuracy: 0.7150\n",
            "Epoch 5/25\n",
            "250/250 [==============================] - 82s 328ms/step - loss: 0.4915 - accuracy: 0.7523 - val_loss: 0.5353 - val_accuracy: 0.7585\n",
            "Epoch 6/25\n",
            "250/250 [==============================] - 83s 330ms/step - loss: 0.4768 - accuracy: 0.7682 - val_loss: 0.4907 - val_accuracy: 0.7700\n",
            "Epoch 7/25\n",
            "250/250 [==============================] - 82s 329ms/step - loss: 0.4674 - accuracy: 0.7807 - val_loss: 0.4662 - val_accuracy: 0.7835\n",
            "Epoch 8/25\n",
            "250/250 [==============================] - 82s 329ms/step - loss: 0.4379 - accuracy: 0.7973 - val_loss: 0.5155 - val_accuracy: 0.7645\n",
            "Epoch 9/25\n",
            "250/250 [==============================] - 82s 328ms/step - loss: 0.4330 - accuracy: 0.8010 - val_loss: 0.4639 - val_accuracy: 0.7865\n",
            "Epoch 10/25\n",
            "250/250 [==============================] - 82s 328ms/step - loss: 0.4142 - accuracy: 0.8112 - val_loss: 0.5312 - val_accuracy: 0.7525\n",
            "Epoch 11/25\n",
            "250/250 [==============================] - 82s 329ms/step - loss: 0.4023 - accuracy: 0.8124 - val_loss: 0.4747 - val_accuracy: 0.7865\n",
            "Epoch 12/25\n",
            "250/250 [==============================] - 83s 332ms/step - loss: 0.3964 - accuracy: 0.8164 - val_loss: 0.4669 - val_accuracy: 0.7820\n",
            "Epoch 13/25\n",
            "250/250 [==============================] - 82s 329ms/step - loss: 0.3791 - accuracy: 0.8285 - val_loss: 0.4917 - val_accuracy: 0.7730\n",
            "Epoch 14/25\n",
            "250/250 [==============================] - 82s 328ms/step - loss: 0.3550 - accuracy: 0.8393 - val_loss: 0.4727 - val_accuracy: 0.7930\n",
            "Epoch 15/25\n",
            "250/250 [==============================] - 82s 328ms/step - loss: 0.3472 - accuracy: 0.8450 - val_loss: 0.5010 - val_accuracy: 0.7710\n",
            "Epoch 16/25\n",
            "250/250 [==============================] - 83s 331ms/step - loss: 0.3378 - accuracy: 0.8499 - val_loss: 0.5032 - val_accuracy: 0.7785\n",
            "Epoch 17/25\n",
            "250/250 [==============================] - 82s 330ms/step - loss: 0.3203 - accuracy: 0.8660 - val_loss: 0.4711 - val_accuracy: 0.7995\n",
            "Epoch 18/25\n",
            "250/250 [==============================] - 84s 334ms/step - loss: 0.3104 - accuracy: 0.8686 - val_loss: 0.5058 - val_accuracy: 0.7925\n",
            "Epoch 19/25\n",
            "250/250 [==============================] - 83s 331ms/step - loss: 0.2931 - accuracy: 0.8746 - val_loss: 0.4895 - val_accuracy: 0.7955\n",
            "Epoch 20/25\n",
            "250/250 [==============================] - 83s 330ms/step - loss: 0.2907 - accuracy: 0.8728 - val_loss: 0.5059 - val_accuracy: 0.7925\n",
            "Epoch 21/25\n",
            "250/250 [==============================] - 83s 333ms/step - loss: 0.2730 - accuracy: 0.8860 - val_loss: 0.5437 - val_accuracy: 0.7940\n",
            "Epoch 22/25\n",
            "250/250 [==============================] - 82s 329ms/step - loss: 0.2528 - accuracy: 0.8904 - val_loss: 0.5611 - val_accuracy: 0.7970\n",
            "Epoch 23/25\n",
            "250/250 [==============================] - 83s 330ms/step - loss: 0.2481 - accuracy: 0.8989 - val_loss: 0.6008 - val_accuracy: 0.7775\n",
            "Epoch 24/25\n",
            "250/250 [==============================] - 83s 330ms/step - loss: 0.2324 - accuracy: 0.8993 - val_loss: 0.5310 - val_accuracy: 0.7990\n",
            "Epoch 25/25\n",
            "250/250 [==============================] - 82s 330ms/step - loss: 0.2173 - accuracy: 0.9119 - val_loss: 0.5408 - val_accuracy: 0.8050\n"
          ],
          "name": "stdout"
        },
        {
          "output_type": "execute_result",
          "data": {
            "text/plain": [
              "<tensorflow.python.keras.callbacks.History at 0x7f331919b6d0>"
            ]
          },
          "metadata": {
            "tags": []
          },
          "execution_count": 17
        }
      ]
    },
    {
      "cell_type": "markdown",
      "metadata": {
        "id": "U3PZasO0006Z"
      },
      "source": [
        "[link text](https://)## Part 4 - Making a single prediction"
      ]
    },
    {
      "cell_type": "code",
      "metadata": {
        "id": "gsSiWEJY1BPB",
        "colab": {
          "base_uri": "https://localhost:8080/"
        },
        "outputId": "a855581e-c1ba-468f-ef5d-4c34816b0872"
      },
      "source": [
        "import numpy as np\n",
        "from keras.preprocessing import image\n",
        "#test_image = image.load_img('/content/drive/MyDrive/mbo/21-q2/1-certification-DL-2-my-code/2-cnn-1/Part-2-CNN/dataset/single_prediction/cat_or_dog_1.jpg', target_size = (64, 64))\n",
        "test_image = image.load_img('/content/drive/MyDrive/mbo/21-q2/1-certification-DL-2-my-code/2-cnn-1/Part-2-CNN/dataset/test_set/cats/cat.4059.jpg', target_size = (64, 64))\n",
        "test_image = image.img_to_array(test_image)\n",
        "test_image = np.expand_dims(test_image, axis = 0)\n",
        "result = cnn.predict(test_image/255.0)\n",
        "training_set.class_indices\n",
        "print (result[0][0])\n",
        "# I added another cat from the testing set - cat.4059.jpg\n",
        "if result[0][0] > 0.5:\n",
        "  prediction = 'dog'\n",
        "else:\n",
        "  prediction = 'cat'"
      ],
      "execution_count": 21,
      "outputs": [
        {
          "output_type": "stream",
          "text": [
            "1.0\n"
          ],
          "name": "stdout"
        }
      ]
    },
    {
      "cell_type": "code",
      "metadata": {
        "id": "ED9KB3I54c1i",
        "colab": {
          "base_uri": "https://localhost:8080/"
        },
        "outputId": "92beb7d2-d45f-46d1-a44f-40e1bc8f00ea"
      },
      "source": [
        "print(prediction)"
      ],
      "execution_count": 19,
      "outputs": [
        {
          "output_type": "stream",
          "text": [
            "cat\n"
          ],
          "name": "stdout"
        }
      ]
    }
  ]
}